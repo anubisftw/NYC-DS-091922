{
 "cells": [
  {
   "cell_type": "markdown",
   "id": "27d3d4e3",
   "metadata": {
    "cell_style": "center",
    "slideshow": {
     "slide_type": "slide"
    }
   },
   "source": [
    "<div style=\"color:white;\n",
    "           display:fill;\n",
    "           border-radius:5px;\n",
    "           background-color:#5642C5;\n",
    "           font-size:200%;\n",
    "           font-family:Arial;letter-spacing:0.5px\">\n",
    "\n",
    "<p width = 20%, style=\"padding: 10px;\n",
    "              color:white;\">\n",
    "APIs\n",
    "              \n",
    "</p>\n",
    "</div>\n",
    "\n",
    "Data Science Cohort Live NYC Sept 2022\n",
    "<p>Phase 1: Topic 9</p>\n",
    "<br>\n",
    "<br>\n",
    "\n",
    "<div align = \"right\">\n",
    "<img src=\"Images/flatiron-school-logo.png\" align = \"right\" width=\"200\"/>\n",
    "</div>\n",
    "    \n",
    "   "
   ]
  },
  {
   "cell_type": "markdown",
   "id": "3d95ddf6",
   "metadata": {
    "slideshow": {
     "slide_type": "slide"
    }
   },
   "source": [
    "API, in this context:\n",
    "\n",
    "<div>\n",
    "<center><img src=\"Images/api.png\" width=\"700\"/></center>\n",
    "</div>"
   ]
  },
  {
   "cell_type": "markdown",
   "id": "95400439",
   "metadata": {
    "slideshow": {
     "slide_type": "slide"
    }
   },
   "source": [
    "Send request/recieve response (HTTP)\n",
    "\n",
    "<div>\n",
    "<center><img src=\"Images/http_method.png\" width=\"600\"/></center>\n",
    "</div>\n",
    "\n",
    "Can get response back and interpret in various forms:\n",
    "- JSON\n",
    "- XML\n",
    "- Raw text\n",
    "- etc"
   ]
  },
  {
   "cell_type": "markdown",
   "id": "47bfb4d3",
   "metadata": {
    "slideshow": {
     "slide_type": "slide"
    }
   },
   "source": [
    "A fictitious database accessed via HTTP:\n",
    "\n",
    "https://www.mypetfun.com/db/api\n",
    "\n",
    "<div>\n",
    "<center><img src=\"Images/http_methods.png\" width=\"500\"/></center>\n",
    "</div>\n",
    "\n"
   ]
  },
  {
   "cell_type": "markdown",
   "id": "bbaf6739",
   "metadata": {
    "slideshow": {
     "slide_type": "slide"
    }
   },
   "source": [
    "More technically:\n",
    "\n",
    "\n",
    "<div>\n",
    "<center><img src=\"Images/technical_HTTP_methods.jpeg\" width=\"500\"/></center>\n",
    "</div>\n"
   ]
  },
  {
   "cell_type": "markdown",
   "id": "03d99850",
   "metadata": {
    "slideshow": {
     "slide_type": "slide"
    }
   },
   "source": [
    "Requested data via HTTP might look like this:\n",
    "\n",
    "<br>\n",
    "<br>\n",
    "<div>\n",
    "<center><img src=\"Images/html_request.png\" width=\"500\"/></center>\n",
    "</div>"
   ]
  },
  {
   "cell_type": "markdown",
   "id": "0c4d51af",
   "metadata": {
    "slideshow": {
     "slide_type": "slide"
    }
   },
   "source": [
    "This is HTML + CSS. Will see how to parse this next lecture."
   ]
  },
  {
   "cell_type": "markdown",
   "id": "0d4f8fcf",
   "metadata": {
    "slideshow": {
     "slide_type": "slide"
    }
   },
   "source": [
    "Requested data via HTTP might also look like this:\n",
    "\n",
    "<br>\n",
    "<br>\n",
    "<div>\n",
    "<center><img src=\"Images/request_json.png\" width=\"700\"/></center>\n",
    "</div>\n"
   ]
  },
  {
   "cell_type": "markdown",
   "id": "4b57bbfa",
   "metadata": {
    "slideshow": {
     "slide_type": "fragment"
    }
   },
   "source": [
    "Content looks like JSON!"
   ]
  },
  {
   "cell_type": "markdown",
   "id": "b0e907e9",
   "metadata": {
    "slideshow": {
     "slide_type": "slide"
    }
   },
   "source": [
    "\n",
    "In general: \n",
    "- Want to submit HTTP commands.\n",
    "- Interact with API and HTTP server\n",
    "- Get request/data metadata\n",
    "- Fetch/parse data into Python data structures."
   ]
  },
  {
   "cell_type": "markdown",
   "id": "012b8547",
   "metadata": {
    "slideshow": {
     "slide_type": "slide"
    }
   },
   "source": [
    "The requests library:\n",
    "\n",
    "\n",
    "<br>\n",
    "<br>\n",
    "<div>\n",
    "<center><img src=\"Images/requests.png\" width=\"250\"/></center>\n",
    "</div>\n"
   ]
  },
  {
   "cell_type": "code",
   "execution_count": 1,
   "id": "75a538d5",
   "metadata": {
    "slideshow": {
     "slide_type": "slide"
    }
   },
   "outputs": [],
   "source": [
    "import pandas as pd\n",
    "\n",
    "# the requests package\n",
    "import requests"
   ]
  },
  {
   "cell_type": "markdown",
   "id": "3d6b5161",
   "metadata": {
    "slideshow": {
     "slide_type": "slide"
    }
   },
   "source": [
    "Let's use requests to access data from APIs with public access!\n",
    "<br>\n",
    "<br>\n",
    "<div>\n",
    "<center><img src=\"Images/public_api.png\" width=\"500\"/></center>\n",
    "</div>\n",
    "\n",
    "<center>https://github.com/public-apis/public-apis</center>"
   ]
  },
  {
   "cell_type": "markdown",
   "id": "0637884b",
   "metadata": {
    "slideshow": {
     "slide_type": "slide"
    }
   },
   "source": [
    "The Chuck Norris joke dataset!\n",
    "\n",
    "<center><img src=\"Images/chnorris_kick.png\" width=\"450\"/></center>\n",
    "\n"
   ]
  },
  {
   "cell_type": "markdown",
   "id": "b2e3feb3",
   "metadata": {
    "slideshow": {
     "slide_type": "slide"
    }
   },
   "source": [
    "Or this:\n",
    "\n",
    "<center><img src=\"Images/chucknorris.jpg\" width=\"450\"/></center>"
   ]
  },
  {
   "cell_type": "markdown",
   "id": "5e4f3016",
   "metadata": {
    "slideshow": {
     "slide_type": "slide"
    }
   },
   "source": [
    "<div>\n",
    "<center><img src=\"Images/chucknorris_recycling.jfif\" width=\"450\"/></center>\n",
    "</div>"
   ]
  },
  {
   "cell_type": "markdown",
   "id": "d8c01f90",
   "metadata": {
    "slideshow": {
     "slide_type": "slide"
    }
   },
   "source": [
    "Using the requests get method:\n",
    "\n",
    "- requests.get(url, header = __ , params = __ ) makes a get request on given url\n",
    "- An API may take in additional arguments for returning data in specific form.\n",
    "- Some require a header for authentication.\n",
    "\n",
    "\n",
    "Take a look at the documentation for the Chuck Norris API:\n",
    "\n",
    "https://api.chucknorris.io/"
   ]
  },
  {
   "cell_type": "code",
   "execution_count": 3,
   "id": "7a776161",
   "metadata": {
    "slideshow": {
     "slide_type": "slide"
    }
   },
   "outputs": [
    {
     "data": {
      "text/plain": [
       "<Response [200]>"
      ]
     },
     "execution_count": 3,
     "metadata": {},
     "output_type": "execute_result"
    }
   ],
   "source": [
    "# get a random joke\n",
    "random_chucknorris_url = \"https://api.chucknorris.io/jokes/random\"\n",
    "r = requests.get(random_chucknorris_url)\n",
    "r"
   ]
  },
  {
   "cell_type": "code",
   "execution_count": null,
   "id": "9af55283",
   "metadata": {},
   "outputs": [],
   "source": []
  },
  {
   "cell_type": "markdown",
   "id": "b620be40",
   "metadata": {
    "slideshow": {
     "slide_type": "fragment"
    }
   },
   "source": [
    "This is a response object:\n",
    "- Indicates the type of HTTP response.\n",
    "- 200 = OK.\n",
    "- 400 = Error.\n",
    "\n",
    "Many more types of codes. Look it up."
   ]
  },
  {
   "cell_type": "markdown",
   "id": "bcbe164f",
   "metadata": {
    "slideshow": {
     "slide_type": "slide"
    }
   },
   "source": [
    "Response object attributes and methods:\n",
    "- .status_code\n",
    "- .headers\n",
    "- .text\n",
    "- .json()"
   ]
  },
  {
   "cell_type": "markdown",
   "id": "523fac7d",
   "metadata": {
    "slideshow": {
     "slide_type": "slide"
    }
   },
   "source": [
    "#### .status_code\n",
    "\n",
    "Status code of HTTP response."
   ]
  },
  {
   "cell_type": "code",
   "execution_count": 4,
   "id": "83410ca5",
   "metadata": {
    "slideshow": {
     "slide_type": "fragment"
    }
   },
   "outputs": [
    {
     "data": {
      "text/plain": [
       "200"
      ]
     },
     "execution_count": 4,
     "metadata": {},
     "output_type": "execute_result"
    }
   ],
   "source": [
    "r.status_code"
   ]
  },
  {
   "cell_type": "markdown",
   "id": "023690bb",
   "metadata": {
    "slideshow": {
     "slide_type": "slide"
    }
   },
   "source": [
    "#### .headers\n",
    "\n",
    "- Information about the type of content\n",
    "- Metadata about the request"
   ]
  },
  {
   "cell_type": "code",
   "execution_count": 5,
   "id": "a5a58cc6",
   "metadata": {
    "slideshow": {
     "slide_type": "fragment"
    }
   },
   "outputs": [
    {
     "data": {
      "text/plain": [
       "{'Date': 'Wed, 28 Sep 2022 19:24:33 GMT', 'Content-Type': 'application/json;charset=UTF-8', 'Transfer-Encoding': 'chunked', 'Connection': 'keep-alive', 'Via': '1.1 vegur', 'CF-Cache-Status': 'DYNAMIC', 'Report-To': '{\"endpoints\":[{\"url\":\"https:\\\\/\\\\/a.nel.cloudflare.com\\\\/report\\\\/v3?s=7TqGRU4ywbH0X%2BVN%2BeyzGdcRRNBXjlhDt27zQ5jRZ6pKXhdvASC6Q6PJVlvtox9qQEIG9BWaGQjGl00ahYDfFP6E5yurHOOom7THUBW99kII%2FT4L0HSdxYy6frrG%2BlqNo%2FgzmYw%3D\"}],\"group\":\"cf-nel\",\"max_age\":604800}', 'NEL': '{\"success_fraction\":0,\"report_to\":\"cf-nel\",\"max_age\":604800}', 'Server': 'cloudflare', 'CF-RAY': '751edc208fc51a03-EWR', 'Content-Encoding': 'br', 'alt-svc': 'h3=\":443\"; ma=86400, h3-29=\":443\"; ma=86400'}"
      ]
     },
     "execution_count": 5,
     "metadata": {},
     "output_type": "execute_result"
    }
   ],
   "source": [
    "r.headers"
   ]
  },
  {
   "cell_type": "markdown",
   "id": "8552c399",
   "metadata": {
    "slideshow": {
     "slide_type": "slide"
    }
   },
   "source": [
    "#### .text\n",
    "\n",
    "- Returns fetched information\n",
    "- In pure text format: Python string"
   ]
  },
  {
   "cell_type": "code",
   "execution_count": 6,
   "id": "c76abe88",
   "metadata": {
    "slideshow": {
     "slide_type": "fragment"
    }
   },
   "outputs": [
    {
     "data": {
      "text/plain": [
       "'{\"categories\":[],\"created_at\":\"2020-01-05 13:42:22.701402\",\"icon_url\":\"https://assets.chucknorris.host/img/avatar/chuck-norris.png\",\"id\":\"dUWq_k5iQMyUiHJYfEjcfg\",\"updated_at\":\"2020-01-05 13:42:22.701402\",\"url\":\"https://api.chucknorris.io/jokes/dUWq_k5iQMyUiHJYfEjcfg\",\"value\":\"Local mountain lions have been complaining about the recent string of Chuck Norris attacks.\"}'"
      ]
     },
     "execution_count": 6,
     "metadata": {},
     "output_type": "execute_result"
    }
   ],
   "source": [
    "r.text"
   ]
  },
  {
   "cell_type": "markdown",
   "id": "8086de8f",
   "metadata": {
    "slideshow": {
     "slide_type": "slide"
    }
   },
   "source": [
    "#### .json()\n",
    "\n",
    "- Parses fetched info as json\n",
    "- Returns python dictionary"
   ]
  },
  {
   "cell_type": "code",
   "execution_count": 7,
   "id": "758532a3",
   "metadata": {
    "slideshow": {
     "slide_type": "fragment"
    }
   },
   "outputs": [
    {
     "data": {
      "text/plain": [
       "{'categories': [],\n",
       " 'created_at': '2020-01-05 13:42:22.701402',\n",
       " 'icon_url': 'https://assets.chucknorris.host/img/avatar/chuck-norris.png',\n",
       " 'id': 'dUWq_k5iQMyUiHJYfEjcfg',\n",
       " 'updated_at': '2020-01-05 13:42:22.701402',\n",
       " 'url': 'https://api.chucknorris.io/jokes/dUWq_k5iQMyUiHJYfEjcfg',\n",
       " 'value': 'Local mountain lions have been complaining about the recent string of Chuck Norris attacks.'}"
      ]
     },
     "execution_count": 7,
     "metadata": {},
     "output_type": "execute_result"
    }
   ],
   "source": [
    "r.json()"
   ]
  },
  {
   "cell_type": "markdown",
   "id": "0d29962c",
   "metadata": {
    "slideshow": {
     "slide_type": "slide"
    }
   },
   "source": [
    "#### API parameters\n",
    "- API requests will often allow additional arguments.\n",
    "- I.e. get subset of data, search database by keyword, etc."
   ]
  },
  {
   "cell_type": "code",
   "execution_count": 8,
   "id": "a7aaf56f",
   "metadata": {
    "slideshow": {
     "slide_type": "fragment"
    }
   },
   "outputs": [],
   "source": [
    "new_req = \"https://api.chucknorris.io/jokes/search\"\n",
    "parameters = {'query': 'recycle'}\n",
    "r2 = requests.get(new_req, params = parameters)\n",
    "\n",
    "# same as just passing in \"https://api.chucknorris.io/jokes/search?query=recycle\"\n",
    "# using params dictionary much better form."
   ]
  },
  {
   "cell_type": "code",
   "execution_count": 9,
   "id": "c0fab984",
   "metadata": {
    "scrolled": false,
    "slideshow": {
     "slide_type": "fragment"
    }
   },
   "outputs": [],
   "source": [
    "query_data = r2.json()"
   ]
  },
  {
   "cell_type": "code",
   "execution_count": 10,
   "id": "db1136c1",
   "metadata": {
    "cell_style": "split",
    "slideshow": {
     "slide_type": "fragment"
    }
   },
   "outputs": [
    {
     "data": {
      "text/plain": [
       "dict_keys(['total', 'result'])"
      ]
     },
     "execution_count": 10,
     "metadata": {},
     "output_type": "execute_result"
    }
   ],
   "source": [
    "query_data.keys()"
   ]
  },
  {
   "cell_type": "code",
   "execution_count": 11,
   "id": "a87ffb05",
   "metadata": {
    "cell_style": "split",
    "slideshow": {
     "slide_type": "fragment"
    }
   },
   "outputs": [
    {
     "data": {
      "text/plain": [
       "5"
      ]
     },
     "execution_count": 11,
     "metadata": {},
     "output_type": "execute_result"
    }
   ],
   "source": [
    "query_data['total']"
   ]
  },
  {
   "cell_type": "code",
   "execution_count": 12,
   "id": "c052fb39",
   "metadata": {
    "slideshow": {
     "slide_type": "slide"
    }
   },
   "outputs": [
    {
     "data": {
      "text/plain": [
       "[{'categories': [],\n",
       "  'created_at': '2020-01-05 13:42:19.324003',\n",
       "  'icon_url': 'https://assets.chucknorris.host/img/avatar/chuck-norris.png',\n",
       "  'id': 'KDNst_DLT321gRz8bBN1YQ',\n",
       "  'updated_at': '2020-01-05 13:42:19.324003',\n",
       "  'url': 'https://api.chucknorris.io/jokes/KDNst_DLT321gRz8bBN1YQ',\n",
       "  'value': 'Chuck Norris can recycle anything he wants,including his roundhouse kicks.'},\n",
       " {'categories': [],\n",
       "  'created_at': '2020-01-05 13:42:22.701402',\n",
       "  'icon_url': 'https://assets.chucknorris.host/img/avatar/chuck-norris.png',\n",
       "  'id': '8PF0ft1iQKuvVStbuGkwkg',\n",
       "  'updated_at': '2020-01-05 13:42:22.701402',\n",
       "  'url': 'https://api.chucknorris.io/jokes/8PF0ft1iQKuvVStbuGkwkg',\n",
       "  'value': 'Chuck Norris uses Wikileaks as a Recycle bin'},\n",
       " {'categories': [],\n",
       "  'created_at': '2020-01-05 13:42:27.496799',\n",
       "  'icon_url': 'https://assets.chucknorris.host/img/avatar/chuck-norris.png',\n",
       "  'id': 'bRrEaaLhQ1W1a6gBygYujA',\n",
       "  'updated_at': '2020-01-05 13:42:27.496799',\n",
       "  'url': 'https://api.chucknorris.io/jokes/bRrEaaLhQ1W1a6gBygYujA',\n",
       "  'value': 'When Chuck Norris recycles paper it turns right back into trees'},\n",
       " {'categories': [],\n",
       "  'created_at': '2020-01-05 13:42:27.496799',\n",
       "  'icon_url': 'https://assets.chucknorris.host/img/avatar/chuck-norris.png',\n",
       "  'id': 'AC4eKCkKRZ-2fjS2JLdkJA',\n",
       "  'updated_at': '2020-01-05 13:42:27.496799',\n",
       "  'url': 'https://api.chucknorris.io/jokes/AC4eKCkKRZ-2fjS2JLdkJA',\n",
       "  'value': 'if Chuck Norris wanted to recycle, he would recycle your face.'},\n",
       " {'categories': [],\n",
       "  'created_at': '2020-01-05 13:42:30.480041',\n",
       "  'icon_url': 'https://assets.chucknorris.host/img/avatar/chuck-norris.png',\n",
       "  'id': 'UenLgf3XTbaZHmA7ZPCMDA',\n",
       "  'updated_at': '2020-01-05 13:42:30.480041',\n",
       "  'url': 'https://api.chucknorris.io/jokes/UenLgf3XTbaZHmA7ZPCMDA',\n",
       "  'value': 'Chuck Norris can delete the recycle bin'}]"
      ]
     },
     "execution_count": 12,
     "metadata": {},
     "output_type": "execute_result"
    }
   ],
   "source": [
    "query_data['result']"
   ]
  },
  {
   "cell_type": "code",
   "execution_count": 20,
   "id": "44eaadc9",
   "metadata": {
    "slideshow": {
     "slide_type": "slide"
    }
   },
   "outputs": [
    {
     "data": {
      "text/plain": [
       "{'total': 46,\n",
       " 'result': [{'categories': ['explicit'],\n",
       "   'created_at': '2020-01-05 13:42:18.823766',\n",
       "   'icon_url': 'https://assets.chucknorris.host/img/avatar/chuck-norris.png',\n",
       "   'id': 'BL221V8TTnqOeZgK_p9W4g',\n",
       "   'updated_at': '2020-01-05 13:42:18.823766',\n",
       "   'url': 'https://api.chucknorris.io/jokes/BL221V8TTnqOeZgK_p9W4g',\n",
       "   'value': \"Tell your mom and your friend's mom thanks for tongue massaging Chuck Norris' dick.\"},\n",
       "  {'categories': [],\n",
       "   'created_at': '2020-01-05 13:42:19.104863',\n",
       "   'icon_url': 'https://assets.chucknorris.host/img/avatar/chuck-norris.png',\n",
       "   'id': 'ExcA6hOLS7u3KtE60k2f1Q',\n",
       "   'updated_at': '2020-01-05 13:42:19.104863',\n",
       "   'url': 'https://api.chucknorris.io/jokes/ExcA6hOLS7u3KtE60k2f1Q',\n",
       "   'value': 'Chuck Norris destroyed my mommy.'},\n",
       "  {'categories': [],\n",
       "   'created_at': '2020-01-05 13:42:19.324003',\n",
       "   'icon_url': 'https://assets.chucknorris.host/img/avatar/chuck-norris.png',\n",
       "   'id': '1OgZjJoaTmaACOwSkaeYGA',\n",
       "   'updated_at': '2020-01-05 13:42:19.324003',\n",
       "   'url': 'https://api.chucknorris.io/jokes/1OgZjJoaTmaACOwSkaeYGA',\n",
       "   'value': 'At this moment there is a fifty-fifty chance Chuck Norris is fucking your sister'},\n",
       "  {'categories': [],\n",
       "   'created_at': '2020-01-05 13:42:19.897976',\n",
       "   'icon_url': 'https://assets.chucknorris.host/img/avatar/chuck-norris.png',\n",
       "   'id': 'eb4COkzuRF-fGQnnJqTFNg',\n",
       "   'updated_at': '2020-01-05 13:42:19.897976',\n",
       "   'url': 'https://api.chucknorris.io/jokes/eb4COkzuRF-fGQnnJqTFNg',\n",
       "   'value': 'yo momma so ugly, Chuck Norris had to roundhouse kick her.the image of yo momma still haunts Chuck Norris to this day.'},\n",
       "  {'categories': [],\n",
       "   'created_at': '2020-01-05 13:42:19.897976',\n",
       "   'icon_url': 'https://assets.chucknorris.host/img/avatar/chuck-norris.png',\n",
       "   'id': 'lRpIKhaWS_KkymMyZsyrrQ',\n",
       "   'updated_at': '2020-01-05 13:42:19.897976',\n",
       "   'url': 'https://api.chucknorris.io/jokes/lRpIKhaWS_KkymMyZsyrrQ',\n",
       "   'value': \"Repost: When Chuck Norris says his power level is over 9000, he's replacing that term with 777777777777777777, and sometimes, like for this, every instance of the numeral 7 is replaced by over 9000. It's proper at this moment, because that number with a bunch of sevens is, indeed, over 9000.\"},\n",
       "  {'categories': [],\n",
       "   'created_at': '2020-01-05 13:42:20.568859',\n",
       "   'icon_url': 'https://assets.chucknorris.host/img/avatar/chuck-norris.png',\n",
       "   'id': 'a-JS5a3fTTKz3xwxh_f36Q',\n",
       "   'updated_at': '2020-01-05 13:42:20.568859',\n",
       "   'url': 'https://api.chucknorris.io/jokes/a-JS5a3fTTKz3xwxh_f36Q',\n",
       "   'value': \"Reportedly, the moment Chuck Norris was born, Hitler's actual jaw spontaneously dislocated.\"},\n",
       "  {'categories': [],\n",
       "   'created_at': '2020-01-05 13:42:20.841843',\n",
       "   'icon_url': 'https://assets.chucknorris.host/img/avatar/chuck-norris.png',\n",
       "   'id': '6aqcOwDJQyeMo9FvUCJjow',\n",
       "   'updated_at': '2020-01-05 13:42:20.841843',\n",
       "   'url': 'https://api.chucknorris.io/jokes/6aqcOwDJQyeMo9FvUCJjow',\n",
       "   'value': \"Chuck Norris and his Mom have matching tattoos. Left kuckle Right knuckle Chuck Norris . Left foot Right foot Chuck Norris. Only one difference. Above his Mom's hairy mat it reads Hello ! Above Chuck Norris's bearded Ass it simply reads Goodbye.\"},\n",
       "  {'categories': [],\n",
       "   'created_at': '2020-01-05 13:42:20.841843',\n",
       "   'icon_url': 'https://assets.chucknorris.host/img/avatar/chuck-norris.png',\n",
       "   'id': 'SEH0BSGpTyeq7Fmgo1lv7Q',\n",
       "   'updated_at': '2020-01-05 13:42:20.841843',\n",
       "   'url': 'https://api.chucknorris.io/jokes/SEH0BSGpTyeq7Fmgo1lv7Q',\n",
       "   'value': 'Chuck Norris goes to the Dentist to get a tooth extracted. The Dentist ask do you want gas or a shot ? Chuck Norris answers your gonna need both. Moments after the procedure the Dentist(with blured vision and sore rectum)observes Chuck Norris slowly getting dressed.'},\n",
       "  {'categories': [],\n",
       "   'created_at': '2020-01-05 13:42:21.455187',\n",
       "   'icon_url': 'https://assets.chucknorris.host/img/avatar/chuck-norris.png',\n",
       "   'id': 'YNvp_kvMRAiTHnhcdFTl0A',\n",
       "   'updated_at': '2020-01-05 13:42:21.455187',\n",
       "   'url': 'https://api.chucknorris.io/jokes/YNvp_kvMRAiTHnhcdFTl0A',\n",
       "   'value': 'Chuck Norris once had a weak moment, just to know what it felt like.'},\n",
       "  {'categories': [],\n",
       "   'created_at': '2020-01-05 13:42:22.089095',\n",
       "   'icon_url': 'https://assets.chucknorris.host/img/avatar/chuck-norris.png',\n",
       "   'id': 'aB-qSzlOQ62_NWQZGRdAnw',\n",
       "   'updated_at': '2020-01-05 13:42:22.089095',\n",
       "   'url': 'https://api.chucknorris.io/jokes/aB-qSzlOQ62_NWQZGRdAnw',\n",
       "   'value': 'When Chuck Norris was first born he heard his dad tell his mom \"it\\'s a boy, let\\'s name him Gaylord\". Chuck instantly slapped his dad in the back of the head. Chucks dad then said \"on second thought, let\\'s name him Chuck\".'},\n",
       "  {'categories': [],\n",
       "   'created_at': '2020-01-05 13:42:22.701402',\n",
       "   'icon_url': 'https://assets.chucknorris.host/img/avatar/chuck-norris.png',\n",
       "   'id': '2H7pbDEeTKmd8N22z29yqQ',\n",
       "   'updated_at': '2020-01-05 13:42:22.701402',\n",
       "   'url': 'https://api.chucknorris.io/jokes/2H7pbDEeTKmd8N22z29yqQ',\n",
       "   'value': 'If you ever find yourself watching a Total Gym infomercial, take comfort in the fact that Chuck Norris will not kill you at that exact moment. However, if you change the channel, all bets are off. The best thing to do is to order twelve of them immediately.'},\n",
       "  {'categories': [],\n",
       "   'created_at': '2020-01-05 13:42:22.980058',\n",
       "   'icon_url': 'https://assets.chucknorris.host/img/avatar/chuck-norris.png',\n",
       "   'id': 'EMlnUXW5SJG8fiwD9PQ9wA',\n",
       "   'updated_at': '2020-01-05 13:42:22.980058',\n",
       "   'url': 'https://api.chucknorris.io/jokes/EMlnUXW5SJG8fiwD9PQ9wA',\n",
       "   'value': \"Whenever you say to yourself, 'at least it can't get any worse than this', that's usually the exact moment when Chuck Norris penetrates your mother.\"},\n",
       "  {'categories': [],\n",
       "   'created_at': '2020-01-05 13:42:23.240175',\n",
       "   'icon_url': 'https://assets.chucknorris.host/img/avatar/chuck-norris.png',\n",
       "   'id': 'kvXojRb1SMWk50w0NdJV5A',\n",
       "   'updated_at': '2020-01-05 13:42:23.240175',\n",
       "   'url': 'https://api.chucknorris.io/jokes/kvXojRb1SMWk50w0NdJV5A',\n",
       "   'value': 'For Chuck Norris, NOT skinning you alive the moment he sets eyes on you is considered one of his warmest greetings.'},\n",
       "  {'categories': [],\n",
       "   'created_at': '2020-01-05 13:42:23.484083',\n",
       "   'icon_url': 'https://assets.chucknorris.host/img/avatar/chuck-norris.png',\n",
       "   'id': 'U-45kfsUTXuHUOGgp7WpEw',\n",
       "   'updated_at': '2020-01-05 13:42:23.484083',\n",
       "   'url': 'https://api.chucknorris.io/jokes/U-45kfsUTXuHUOGgp7WpEw',\n",
       "   'value': 'Chuck Norris invented \"That\\'s what she said\", and your mom went, \\'oh yeah\\''},\n",
       "  {'categories': [],\n",
       "   'created_at': '2020-01-05 13:42:23.484083',\n",
       "   'icon_url': 'https://assets.chucknorris.host/img/avatar/chuck-norris.png',\n",
       "   'id': 'Jqv3IRtbQpawcGmU6Upr4w',\n",
       "   'updated_at': '2020-01-05 13:42:23.484083',\n",
       "   'url': 'https://api.chucknorris.io/jokes/Jqv3IRtbQpawcGmU6Upr4w',\n",
       "   'value': \"Colten: Chuck Norris Plus your mom plus you equals two bodies lying in a huge pool of blood and a diabolical smile on Chuck Norris' face.\"},\n",
       "  {'categories': [],\n",
       "   'created_at': '2020-01-05 13:42:23.880601',\n",
       "   'icon_url': 'https://assets.chucknorris.host/img/avatar/chuck-norris.png',\n",
       "   'id': 'OQIKXJuSTMOJ7AVoMiCLpw',\n",
       "   'updated_at': '2020-01-05 13:42:23.880601',\n",
       "   'url': 'https://api.chucknorris.io/jokes/OQIKXJuSTMOJ7AVoMiCLpw',\n",
       "   'value': 'Chuck Norris once liked a Youtube video that had no likes and 37587693 dislikes. 1 minute later, the video had 67843674328976894357348976207627482867834997224694287985762897036 likes. Chuck Norris had 274 Youtube channels the moment I submitted this fact, by the way.'},\n",
       "  {'categories': [],\n",
       "   'created_at': '2020-01-05 13:42:23.880601',\n",
       "   'icon_url': 'https://assets.chucknorris.host/img/avatar/chuck-norris.png',\n",
       "   'id': 'rBaSlj33TuuRTuOij66fDg',\n",
       "   'updated_at': '2020-01-05 13:42:23.880601',\n",
       "   'url': 'https://api.chucknorris.io/jokes/rBaSlj33TuuRTuOij66fDg',\n",
       "   'value': 'Chuck Norris puts the \"fun\" in funeral, the \"laughter\" in slaughter, the \"harm\" in charm, the \"ass\" in passion, the \"gas\" in orgasm, the \"man\" in woman, the \"fucker\" in motherfucker, the \"ow\" in power, the \"pain\" in Spain, the \"eat\" in death, the \"aids\" in maids, \"the \"hiv\" in shiv, the \"he\" in the, and the \"giant cock\" in your mom\\'s ass.'},\n",
       "  {'categories': [],\n",
       "   'created_at': '2020-01-05 13:42:24.142371',\n",
       "   'icon_url': 'https://assets.chucknorris.host/img/avatar/chuck-norris.png',\n",
       "   'id': 'rXTehTIaQcuQgEAtyAZ1fg',\n",
       "   'updated_at': '2020-01-05 13:42:24.142371',\n",
       "   'url': 'https://api.chucknorris.io/jokes/rXTehTIaQcuQgEAtyAZ1fg',\n",
       "   'value': \"The greatest honor Chuck Norris' mom ever received was giving birth to Chuck Norris.\"},\n",
       "  {'categories': [],\n",
       "   'created_at': '2020-01-05 13:42:24.40636',\n",
       "   'icon_url': 'https://assets.chucknorris.host/img/avatar/chuck-norris.png',\n",
       "   'id': 'GmFOrvL2STqRz0oVO-0I9w',\n",
       "   'updated_at': '2020-01-05 13:42:24.40636',\n",
       "   'url': 'https://api.chucknorris.io/jokes/GmFOrvL2STqRz0oVO-0I9w',\n",
       "   'value': 'If you use a comeback at Chuck Norris while talking, he will comeback your face. Chuck Norris: Your gay. You: Im straighter than the pole you danced on last night. Chuck Norris: Go get grounded by your mom with that joke Crowd: OOOOOOOOOOOHHHHHHHHHHHH!!!!!!!!!!!'},\n",
       "  {'categories': [],\n",
       "   'created_at': '2020-01-05 13:42:24.40636',\n",
       "   'icon_url': 'https://assets.chucknorris.host/img/avatar/chuck-norris.png',\n",
       "   'id': 'VFjSpUTVTHqv44fHPIp42w',\n",
       "   'updated_at': '2020-01-05 13:42:24.40636',\n",
       "   'url': 'https://api.chucknorris.io/jokes/VFjSpUTVTHqv44fHPIp42w',\n",
       "   'value': 'There are soccer moms, and then there are Chuck Norris moms. And guess which one yours is.'},\n",
       "  {'categories': [],\n",
       "   'created_at': '2020-01-05 13:42:24.696555',\n",
       "   'icon_url': 'https://assets.chucknorris.host/img/avatar/chuck-norris.png',\n",
       "   'id': 'NUPvDflQQJq4soUc5YwSZg',\n",
       "   'updated_at': '2020-01-05 13:42:24.696555',\n",
       "   'url': 'https://api.chucknorris.io/jokes/NUPvDflQQJq4soUc5YwSZg',\n",
       "   'value': \"In the semen that made it to Chuck Norris' mom's womb, Chuck Norris was the only sperm. He'd long then round-house killed all the other sperms while still in his Dad's epididymis/balls.\"},\n",
       "  {'categories': [],\n",
       "   'created_at': '2020-01-05 13:42:24.696555',\n",
       "   'icon_url': 'https://assets.chucknorris.host/img/avatar/chuck-norris.png',\n",
       "   'id': 'vdM57jvfTxOIkMb-9NtYYQ',\n",
       "   'updated_at': '2020-01-05 13:42:24.696555',\n",
       "   'url': 'https://api.chucknorris.io/jokes/vdM57jvfTxOIkMb-9NtYYQ',\n",
       "   'value': 'The Dos Equis man once said, \"I am the most interesting man in the world.\" Chuck Norris then said. \"Do you want fries with this\", then bitch slapped him until he cried out for his mommy.'},\n",
       "  {'categories': [],\n",
       "   'created_at': '2020-01-05 13:42:25.099703',\n",
       "   'icon_url': 'https://assets.chucknorris.host/img/avatar/chuck-norris.png',\n",
       "   'id': 'T42tOhowSyGYJ22EABPezA',\n",
       "   'updated_at': '2020-01-05 13:42:25.099703',\n",
       "   'url': 'https://api.chucknorris.io/jokes/T42tOhowSyGYJ22EABPezA',\n",
       "   'value': 'Chuck Norris was born at 6 p.m. By 8 p.m he had killed all his siblings. By 10 p.m he had all his nurses pimped out and made $2000. He waited until noon the next day to pimp out his mom.'},\n",
       "  {'categories': [],\n",
       "   'created_at': '2020-01-05 13:42:26.194739',\n",
       "   'icon_url': 'https://assets.chucknorris.host/img/avatar/chuck-norris.png',\n",
       "   'id': 'ftV4qIlNTWWQKbDl8HCo2Q',\n",
       "   'updated_at': '2020-01-05 13:42:26.194739',\n",
       "   'url': 'https://api.chucknorris.io/jokes/ftV4qIlNTWWQKbDl8HCo2Q',\n",
       "   'value': \"Chuck Norris fucking haxxored your mom's ass last night.\"},\n",
       "  {'categories': [],\n",
       "   'created_at': '2020-01-05 13:42:26.194739',\n",
       "   'icon_url': 'https://assets.chucknorris.host/img/avatar/chuck-norris.png',\n",
       "   'id': 'KJbnitWSQEWuB2A-J1872A',\n",
       "   'updated_at': '2020-01-05 13:42:26.194739',\n",
       "   'url': 'https://api.chucknorris.io/jokes/KJbnitWSQEWuB2A-J1872A',\n",
       "   'value': \"King Solomom had 300 concubines, Chuck Norris' concubine was King Solomon\"},\n",
       "  {'categories': [],\n",
       "   'created_at': '2020-01-05 13:42:26.447675',\n",
       "   'icon_url': 'https://assets.chucknorris.host/img/avatar/chuck-norris.png',\n",
       "   'id': '9yPOBZC5TFav0WvrlJplKw',\n",
       "   'updated_at': '2020-01-05 13:42:26.447675',\n",
       "   'url': 'https://api.chucknorris.io/jokes/9yPOBZC5TFav0WvrlJplKw',\n",
       "   'value': 'Chuck Norris is the most venomous thing on earth. After moments of getting bit, you receive the following symptoms: fever, beard rash, tightness of jeans, and the feeling of getting kicked through a car.'},\n",
       "  {'categories': [],\n",
       "   'created_at': '2020-01-05 13:42:26.766831',\n",
       "   'icon_url': 'https://assets.chucknorris.host/img/avatar/chuck-norris.png',\n",
       "   'id': 'jgBfuo33QtWr2ta_hUtIMg',\n",
       "   'updated_at': '2020-01-05 13:42:26.766831',\n",
       "   'url': 'https://api.chucknorris.io/jokes/jgBfuo33QtWr2ta_hUtIMg',\n",
       "   'value': 'Chuck Norris invented the hemorrhoid thermometer.'},\n",
       "  {'categories': [],\n",
       "   'created_at': '2020-01-05 13:42:26.991637',\n",
       "   'icon_url': 'https://assets.chucknorris.host/img/avatar/chuck-norris.png',\n",
       "   'id': '2q8W3e5dTz-ij7r1ystkZw',\n",
       "   'updated_at': '2020-01-05 13:42:26.991637',\n",
       "   'url': 'https://api.chucknorris.io/jokes/2q8W3e5dTz-ij7r1ystkZw',\n",
       "   'value': 'Chuck Norris once had an awkward moment. Just to see what it feels like.'},\n",
       "  {'categories': [],\n",
       "   'created_at': '2020-01-05 13:42:27.496799',\n",
       "   'icon_url': 'https://assets.chucknorris.host/img/avatar/chuck-norris.png',\n",
       "   'id': 'obxGcrcdQaGXt6b8PFW84w',\n",
       "   'updated_at': '2020-01-05 13:42:27.496799',\n",
       "   'url': 'https://api.chucknorris.io/jokes/obxGcrcdQaGXt6b8PFW84w',\n",
       "   'value': \"That Russian meteor wasn't a meteor. It was a Chuck Norris sperm. The shockwave was the orgasm. The unlucky women were your mom, sister, aunt, and daughter.\"},\n",
       "  {'categories': [],\n",
       "   'created_at': '2020-01-05 13:42:27.496799',\n",
       "   'icon_url': 'https://assets.chucknorris.host/img/avatar/chuck-norris.png',\n",
       "   'id': 'mYv1trdDSFmLS5wJxHy-iA',\n",
       "   'updated_at': '2020-01-05 13:42:27.496799',\n",
       "   'url': 'https://api.chucknorris.io/jokes/mYv1trdDSFmLS5wJxHy-iA',\n",
       "   'value': 'Chuck Norris once went to the Central Park Zoo in 1981. His favorite moment was teabagging the giraffes.'},\n",
       "  {'categories': [],\n",
       "   'created_at': '2020-01-05 13:42:27.496799',\n",
       "   'icon_url': 'https://assets.chucknorris.host/img/avatar/chuck-norris.png',\n",
       "   'id': 'kM4TrzVxRPi6WAoxbLTJQw',\n",
       "   'updated_at': '2020-01-05 13:42:27.496799',\n",
       "   'url': 'https://api.chucknorris.io/jokes/kM4TrzVxRPi6WAoxbLTJQw',\n",
       "   'value': \"Chuck Norris' mom always looks forward to every Mothers Day. Her loving son always provides her favorite gift...an uppercut.\"},\n",
       "  {'categories': [],\n",
       "   'created_at': '2020-01-05 13:42:28.143137',\n",
       "   'icon_url': 'https://assets.chucknorris.host/img/avatar/chuck-norris.png',\n",
       "   'id': 'kZAGZAqiQXG4VWhBDiXEYQ',\n",
       "   'updated_at': '2020-01-05 13:42:28.143137',\n",
       "   'url': 'https://api.chucknorris.io/jokes/kZAGZAqiQXG4VWhBDiXEYQ',\n",
       "   'value': \"Haiti once talked about Chuck Norris' momma, we all know what happened to Haiti.\"},\n",
       "  {'categories': [],\n",
       "   'created_at': '2020-01-05 13:42:28.420821',\n",
       "   'icon_url': 'https://assets.chucknorris.host/img/avatar/chuck-norris.png',\n",
       "   'id': 'L8249t26RIqpILWUaDE5Rw',\n",
       "   'updated_at': '2020-01-05 13:42:28.420821',\n",
       "   'url': 'https://api.chucknorris.io/jokes/L8249t26RIqpILWUaDE5Rw',\n",
       "   'value': 'Chuck Norris Plus your mom equals you'},\n",
       "  {'categories': [],\n",
       "   'created_at': '2020-01-05 13:42:28.420821',\n",
       "   'icon_url': 'https://assets.chucknorris.host/img/avatar/chuck-norris.png',\n",
       "   'id': 'mDc5ocOtS2OmLmvi-A_H1A',\n",
       "   'updated_at': '2020-01-05 13:42:28.420821',\n",
       "   'url': 'https://api.chucknorris.io/jokes/mDc5ocOtS2OmLmvi-A_H1A',\n",
       "   'value': 'Chuck Norris was so ugly when he was born that his mom threw him away and kept the afterbirth.'},\n",
       "  {'categories': [],\n",
       "   'created_at': '2020-01-05 13:42:28.664997',\n",
       "   'icon_url': 'https://assets.chucknorris.host/img/avatar/chuck-norris.png',\n",
       "   'id': '__5gqMxySZCkPRpbbROy3g',\n",
       "   'updated_at': '2020-01-05 13:42:28.664997',\n",
       "   'url': 'https://api.chucknorris.io/jokes/__5gqMxySZCkPRpbbROy3g',\n",
       "   'value': 'The reason why Chuck Norris is such a badass is he thought all the yo momma jokes were written about his mother.'},\n",
       "  {'categories': [],\n",
       "   'created_at': '2020-01-05 13:42:28.984661',\n",
       "   'icon_url': 'https://assets.chucknorris.host/img/avatar/chuck-norris.png',\n",
       "   'id': 'u3glR1eVRAuY_fN5rzLsfw',\n",
       "   'updated_at': '2020-01-05 13:42:28.984661',\n",
       "   'url': 'https://api.chucknorris.io/jokes/u3glR1eVRAuY_fN5rzLsfw',\n",
       "   'value': \"Chuck Norris' mom can kick your ass.\"},\n",
       "  {'categories': [],\n",
       "   'created_at': '2020-01-05 13:42:29.296379',\n",
       "   'icon_url': 'https://assets.chucknorris.host/img/avatar/chuck-norris.png',\n",
       "   'id': 'RT1fmqL_RFmpMkRd_qSzMA',\n",
       "   'updated_at': '2020-01-05 13:42:29.296379',\n",
       "   'url': 'https://api.chucknorris.io/jokes/RT1fmqL_RFmpMkRd_qSzMA',\n",
       "   'value': 'Fun Fact: The moment Chuck Norris was pulled from his mother\\'s womb all the doctors and nurses in the hospital began to sing \"O\\' Fortuna\" in its entirety. There is still no scientific explanation as to how this happened.'},\n",
       "  {'categories': [],\n",
       "   'created_at': '2020-01-05 13:42:29.296379',\n",
       "   'icon_url': 'https://assets.chucknorris.host/img/avatar/chuck-norris.png',\n",
       "   'id': 'xrRPjL5rQbeq_Ns7vYgq7A',\n",
       "   'updated_at': '2020-01-05 13:42:29.296379',\n",
       "   'url': 'https://api.chucknorris.io/jokes/xrRPjL5rQbeq_Ns7vYgq7A',\n",
       "   'value': \"The saddest moment for a child is not when he learns Santa Claus isn't real, it's when he learns Chuck Norris is.\"},\n",
       "  {'categories': [],\n",
       "   'created_at': '2020-01-05 13:42:30.177068',\n",
       "   'icon_url': 'https://assets.chucknorris.host/img/avatar/chuck-norris.png',\n",
       "   'id': '60pjmePzRNm9nfZP4-OXOA',\n",
       "   'updated_at': '2020-01-05 13:42:30.177068',\n",
       "   'url': 'https://api.chucknorris.io/jokes/60pjmePzRNm9nfZP4-OXOA',\n",
       "   'value': \"If Chuck Norris is your mom your dad then who's your brother\"},\n",
       "  {'categories': [],\n",
       "   'created_at': '2020-01-05 13:42:30.177068',\n",
       "   'icon_url': 'https://assets.chucknorris.host/img/avatar/chuck-norris.png',\n",
       "   'id': 'mM_ubDJSTsy_S4nF7SNTcw',\n",
       "   'updated_at': '2020-01-05 13:42:30.177068',\n",
       "   'url': 'https://api.chucknorris.io/jokes/mM_ubDJSTsy_S4nF7SNTcw',\n",
       "   'value': 'When Chuck Norris was born, he immediately got up, round-housed his dad right in the face and said \"that\\'s for sleeping with my mom\"'},\n",
       "  {'categories': [],\n",
       "   'created_at': '2020-01-05 13:42:30.177068',\n",
       "   'icon_url': 'https://assets.chucknorris.host/img/avatar/chuck-norris.png',\n",
       "   'id': 'i4ujArdMRwCSkDxwgBWVNg',\n",
       "   'updated_at': '2020-01-05 13:42:30.177068',\n",
       "   'url': 'https://api.chucknorris.io/jokes/i4ujArdMRwCSkDxwgBWVNg',\n",
       "   'value': 'One time Chuck Norris had an awkward moment just to see what it felt like'},\n",
       "  {'categories': [],\n",
       "   'created_at': '2020-01-05 13:42:30.480041',\n",
       "   'icon_url': 'https://assets.chucknorris.host/img/avatar/chuck-norris.png',\n",
       "   'id': 'ptR6EZwGTxmRaSEcSKVsYQ',\n",
       "   'updated_at': '2020-01-05 13:42:30.480041',\n",
       "   'url': 'https://api.chucknorris.io/jokes/ptR6EZwGTxmRaSEcSKVsYQ',\n",
       "   'value': 'the only thing what can beat Chuck Norris is his MOM'},\n",
       "  {'categories': [],\n",
       "   'created_at': '2020-01-05 13:42:30.480041',\n",
       "   'icon_url': 'https://assets.chucknorris.host/img/avatar/chuck-norris.png',\n",
       "   'id': 'eg-f8DqKTUmkyejb1-lTZg',\n",
       "   'updated_at': '2020-01-05 13:42:30.480041',\n",
       "   'url': 'https://api.chucknorris.io/jokes/eg-f8DqKTUmkyejb1-lTZg',\n",
       "   'value': 'your mom by Chuck Norris that'},\n",
       "  {'categories': [],\n",
       "   'created_at': '2020-01-05 13:42:30.730109',\n",
       "   'icon_url': 'https://assets.chucknorris.host/img/avatar/chuck-norris.png',\n",
       "   'id': 'gzuD2p2STVO4_0UbF2Dlyw',\n",
       "   'updated_at': '2020-01-05 13:42:30.730109',\n",
       "   'url': 'https://api.chucknorris.io/jokes/gzuD2p2STVO4_0UbF2Dlyw',\n",
       "   'value': 'The moment were you dont capitalize CHUCK NORRIS is the moment when Chuck Norris decides that your dieing at that very moment.... But this is only possible if you havent pissed CHUCK NORRIS off already... Because you would already be dead.'},\n",
       "  {'categories': ['explicit'],\n",
       "   'created_at': '2020-01-05 13:42:30.730109',\n",
       "   'icon_url': 'https://assets.chucknorris.host/img/avatar/chuck-norris.png',\n",
       "   'id': 'sUdBEpGARAyxbePaHlE1Xw',\n",
       "   'updated_at': '2020-01-05 13:42:30.730109',\n",
       "   'url': 'https://api.chucknorris.io/jokes/sUdBEpGARAyxbePaHlE1Xw',\n",
       "   'value': 'damn u Chuck Norris no one watches faggot sam except my mom and micheal jackson'},\n",
       "  {'categories': [],\n",
       "   'created_at': '2020-01-05 13:42:30.730109',\n",
       "   'icon_url': 'https://assets.chucknorris.host/img/avatar/chuck-norris.png',\n",
       "   'id': 'bFnEmohIQimOR3ZVK3RNaQ',\n",
       "   'updated_at': '2020-01-05 13:42:30.730109',\n",
       "   'url': 'https://api.chucknorris.io/jokes/bFnEmohIQimOR3ZVK3RNaQ',\n",
       "   'value': 'AMFG@!@!@!! JESUSSS I GOT MU ASSS KICKED BY YO MOMA AHWDEAQHw3btr0gn94bgirubguibrgiubeuibgr GO CHUCK YEAAAAAA :) one day Chuck Norris was walking along the street and he wanted some marmite and it tasted real good! then he tried it on some toast and had a real big fright'}]}"
      ]
     },
     "execution_count": 20,
     "metadata": {},
     "output_type": "execute_result"
    }
   ],
   "source": [
    "# get me a list containing all the Chuck Norris jokes concerning roundhouse kicks.\n",
    "roundhouse_url = \"https://api.chucknorris.io/jokes/search\"\n",
    "\n",
    "params = {'query' : 'mom'}\n",
    "\n",
    "r3 = requests.get(roundhouse_url, params)\n",
    "\n",
    "r3.json()"
   ]
  },
  {
   "cell_type": "code",
   "execution_count": null,
   "id": "42d6bc67",
   "metadata": {
    "slideshow": {
     "slide_type": "slide"
    }
   },
   "outputs": [],
   "source": [
    "# get me a Chuck Norris joke in the sports category.\n"
   ]
  },
  {
   "cell_type": "markdown",
   "id": "e79ee8e3",
   "metadata": {
    "slideshow": {
     "slide_type": "slide"
    }
   },
   "source": [
    "#### Secure APIs: Generating Access Tokens\n",
    "- Need to generate an access token for secure APIs.\n",
    "- Uses OAuth protocol for providing API access.\n",
    "    - Verify identity.\n",
    "    - Give access to resource.\n"
   ]
  },
  {
   "cell_type": "markdown",
   "id": "4cbc26d6",
   "metadata": {
    "slideshow": {
     "slide_type": "slide"
    }
   },
   "source": [
    "#### Acessing data via Yelp API\n",
    "\n",
    "<div>\n",
    "<center><img src=\"Images/yelp.png\" width=\"450\"/></center>\n",
    "</div>\n",
    "<center>https://www.yelp.com/developers/v3/manage_app </center>\n",
    "\n",
    "- Point your browser over to this [yelp page](https://www.yelp.com/developers/v3/manage_app) \n",
    "- Fill out your app info/details. \n",
    "- Afterwards, should be presented with an API key for making requests.\n",
    "\n"
   ]
  },
  {
   "cell_type": "markdown",
   "id": "e22e1690",
   "metadata": {
    "slideshow": {
     "slide_type": "slide"
    }
   },
   "source": [
    "#### Storing API key securely\n",
    "- Store key for easy access\n",
    "- Protect from exposure to unwanted parties.\n"
   ]
  },
  {
   "cell_type": "markdown",
   "id": "dc887b6a",
   "metadata": {
    "slideshow": {
     "slide_type": "slide"
    }
   },
   "source": [
    "#### Procedure outline:\n",
    "\n",
    "- Create a hidden .secrets folder in your repository\n",
    "- Put your credentials in a file in the .secrets folder\n",
    "- Add the .secrets/ folder to the .gitignore file\n",
    "    \n",
    "    \n",
    "    "
   ]
  },
  {
   "cell_type": "markdown",
   "id": "4735105b",
   "metadata": {
    "slideshow": {
     "slide_type": "slide"
    }
   },
   "source": [
    "#### Make secrets directory"
   ]
  },
  {
   "cell_type": "code",
   "execution_count": 14,
   "id": "4edc6986",
   "metadata": {
    "slideshow": {
     "slide_type": "fragment"
    }
   },
   "outputs": [],
   "source": [
    "%%bash\n",
    "mkdir .secrets"
   ]
  },
  {
   "cell_type": "markdown",
   "id": "d5593aac",
   "metadata": {
    "slideshow": {
     "slide_type": "slide"
    }
   },
   "source": [
    "#### Put credentials in authentication file."
   ]
  },
  {
   "cell_type": "code",
   "execution_count": 15,
   "id": "dceb2b6b",
   "metadata": {
    "slideshow": {
     "slide_type": "fragment"
    }
   },
   "outputs": [],
   "source": [
    "%%bash \n",
    "echo '{ \"id\": \"HPrh85ZR7BbDL9GAL-lijQ\", \"key\": \"EGbndJVMIpGOy9VCfGI3vqxmNcoDoWP5p61wP-KH_7CjxnHRfulNkX58hSMIkpVGA1Eqg2QqLMjJa_aOPGEBoOZi1ZDD0IWI9G-BHR_oP1h5aesf115cl9WbRhyWYnYx\" }' > .secrets/creds.json"
   ]
  },
  {
   "cell_type": "markdown",
   "id": "5c9608ff",
   "metadata": {
    "slideshow": {
     "slide_type": "slide"
    }
   },
   "source": [
    "####  Move to .secrets folder"
   ]
  },
  {
   "cell_type": "code",
   "execution_count": 16,
   "id": "972ebea9",
   "metadata": {
    "slideshow": {
     "slide_type": "fragment"
    }
   },
   "outputs": [],
   "source": [
    "%%bash \n",
    "#mv creds.json .secrets/"
   ]
  },
  {
   "cell_type": "markdown",
   "id": "de32b2a6",
   "metadata": {
    "slideshow": {
     "slide_type": "slide"
    }
   },
   "source": [
    "#### Add the .secrets/ folder to the .gitignore file\n"
   ]
  },
  {
   "cell_type": "code",
   "execution_count": 17,
   "id": "48f58b5d",
   "metadata": {
    "slideshow": {
     "slide_type": "fragment"
    }
   },
   "outputs": [
    {
     "name": "stdout",
     "output_type": "stream",
     "text": [
      ".\n",
      "..\n",
      ".ipynb_checkpoints\n",
      ".secrets\n",
      "APIs.ipynb\n",
      "Images\n"
     ]
    }
   ],
   "source": [
    "%%bash \n",
    "#echo \".secrets/\" >> .gitignore\n",
    "\n",
    "ls -a   # to check if you have a .gitignore\n",
    "# touch .gitignore\n"
   ]
  },
  {
   "cell_type": "markdown",
   "id": "fcbf0a63",
   "metadata": {
    "slideshow": {
     "slide_type": "slide"
    }
   },
   "source": [
    "#### Load API id + key"
   ]
  },
  {
   "cell_type": "code",
   "execution_count": null,
   "id": "7c0f67b8",
   "metadata": {
    "slideshow": {
     "slide_type": "fragment"
    }
   },
   "outputs": [],
   "source": [
    "import json\n",
    "with open('.secrets/creds.json') as f:\n",
    "    creds = json.load(f)"
   ]
  },
  {
   "cell_type": "markdown",
   "id": "cc2c02e5",
   "metadata": {
    "slideshow": {
     "slide_type": "slide"
    }
   },
   "source": [
    "#### Making our Request\n",
    "\n",
    "Yelp API Guide: https://www.yelp.com/developers/documentation/v3/get_started\n",
    "\n",
    "Get first 10 results of business search in Yelp:\n",
    "- Pertaining to 'Hamburgers'\n",
    "- In Seattle.\n",
    "\n",
    "Authenticate request with key."
   ]
  },
  {
   "cell_type": "code",
   "execution_count": null,
   "id": "057f0b1a",
   "metadata": {
    "slideshow": {
     "slide_type": "subslide"
    }
   },
   "outputs": [],
   "source": [
    "url = 'https://api.yelp.com/v3/businesses/search'\n",
    "term = 'Hamburgers'\n",
    "SEARCH_LIMIT = 10\n",
    "headers = {\n",
    "    'Authorization': 'Bearer ' + creds['key']\n",
    "}\n",
    "\n",
    "url_params = {\n",
    "    'term': term,\n",
    "    'location': 'Seattle+WA',\n",
    "    'limit': SEARCH_LIMIT,\n",
    "    'offset': 0\n",
    "}\n",
    "response = requests.get(url, headers=headers, params=url_params)\n",
    "print(response.status_code)"
   ]
  },
  {
   "cell_type": "markdown",
   "id": "151ac44f",
   "metadata": {
    "slideshow": {
     "slide_type": "slide"
    }
   },
   "source": [
    "Get the JSON data as dict!"
   ]
  },
  {
   "cell_type": "code",
   "execution_count": 19,
   "id": "14d1f4aa",
   "metadata": {
    "scrolled": false,
    "slideshow": {
     "slide_type": "fragment"
    }
   },
   "outputs": [
    {
     "ename": "NameError",
     "evalue": "name 'response' is not defined",
     "output_type": "error",
     "traceback": [
      "\u001b[0;31m---------------------------------------------------------------------------\u001b[0m",
      "\u001b[0;31mNameError\u001b[0m                                 Traceback (most recent call last)",
      "Input \u001b[0;32mIn [19]\u001b[0m, in \u001b[0;36m<cell line: 1>\u001b[0;34m()\u001b[0m\n\u001b[0;32m----> 1\u001b[0m data_json \u001b[38;5;241m=\u001b[39m \u001b[43mresponse\u001b[49m\u001b[38;5;241m.\u001b[39mjson()\n\u001b[1;32m      2\u001b[0m data_json\n",
      "\u001b[0;31mNameError\u001b[0m: name 'response' is not defined"
     ]
    }
   ],
   "source": [
    "data_json = response.json()\n",
    "data_json"
   ]
  },
  {
   "cell_type": "markdown",
   "id": "3cae525c",
   "metadata": {
    "slideshow": {
     "slide_type": "slide"
    }
   },
   "source": [
    "#### Now the fun commences\n",
    "Make a pandas DataFrame called yelp_df:\n",
    "- Explore the business data from the Yelp response \n",
    "- Use your pandas ninja skills. "
   ]
  }
 ],
 "metadata": {
  "kernelspec": {
   "display_name": "Python (myenv)",
   "language": "python",
   "name": "myenv"
  },
  "language_info": {
   "codemirror_mode": {
    "name": "ipython",
    "version": 3
   },
   "file_extension": ".py",
   "mimetype": "text/x-python",
   "name": "python",
   "nbconvert_exporter": "python",
   "pygments_lexer": "ipython3",
   "version": "3.9.12"
  }
 },
 "nbformat": 4,
 "nbformat_minor": 5
}
